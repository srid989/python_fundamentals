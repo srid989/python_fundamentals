{
 "cells": [
  {
   "cell_type": "code",
   "execution_count": null,
   "id": "4df1da56-1384-4291-8a58-972bf207737f",
   "metadata": {},
   "outputs": [],
   "source": [
    "continuation with list datatype:"
   ]
  },
  {
   "cell_type": "code",
   "execution_count": null,
   "id": "7fe3c45c-c1b2-4b6c-81d7-2c5042adb652",
   "metadata": {},
   "outputs": [],
   "source": [
    "introducing to looping statements:"
   ]
  },
  {
   "cell_type": "code",
   "execution_count": null,
   "id": "66682b8d-70f8-4487-a8f0-5e0f511f4646",
   "metadata": {},
   "outputs": [],
   "source": [
    "# for loop:"
   ]
  },
  {
   "cell_type": "code",
   "execution_count": null,
   "id": "dd3da650-e6fb-4ea9-9119-dcca128a3ed5",
   "metadata": {},
   "outputs": [],
   "source": [
    "# general syntax of for loop:"
   ]
  },
  {
   "cell_type": "code",
   "execution_count": null,
   "id": "60e71068-555a-4d1a-953d-0fe585d80dd7",
   "metadata": {},
   "outputs": [],
   "source": [
    "for tempvar in mainvar\n",
    "  print(tempvar)"
   ]
  },
  {
   "cell_type": "code",
   "execution_count": null,
   "id": "031d02a7-c124-4a9e-b5cd-61d5e9c6d696",
   "metadata": {},
   "outputs": [],
   "source": []
  },
  {
   "cell_type": "code",
   "execution_count": 1,
   "id": "a5d722e1-3338-4cbb-b925-9e955d3bd669",
   "metadata": {},
   "outputs": [],
   "source": [
    "students =['santosh','arvind','adnan', 'kiran','heera','naveena' ] # main variable"
   ]
  },
  {
   "cell_type": "code",
   "execution_count": 2,
   "id": "90c135ca-2991-4c10-9fb7-2d3ffc620670",
   "metadata": {},
   "outputs": [
    {
     "name": "stdout",
     "output_type": "stream",
     "text": [
      "['santosh', 'arvind', 'adnan', 'kiran', 'heera', 'naveena']\n"
     ]
    }
   ],
   "source": [
    "print(students)"
   ]
  },
  {
   "cell_type": "code",
   "execution_count": 5,
   "id": "968708cc-500c-419c-b63e-0cc07e88e5fb",
   "metadata": {},
   "outputs": [
    {
     "name": "stdout",
     "output_type": "stream",
     "text": [
      "keep up the good work, Santosh\n"
     ]
    }
   ],
   "source": [
    "print(f\"keep up the good work, {students[0].title()}\")"
   ]
  },
  {
   "cell_type": "code",
   "execution_count": 7,
   "id": "53360fb3-82f4-4d63-bcd6-d60042b90230",
   "metadata": {},
   "outputs": [
    {
     "name": "stdout",
     "output_type": "stream",
     "text": [
      "Keep up the good work, Arvind\n"
     ]
    }
   ],
   "source": [
    "print(f\"Keep up the good work, {students[1].title()}\")"
   ]
  },
  {
   "cell_type": "code",
   "execution_count": 10,
   "id": "4cb0efd6-bd6c-4cb3-9e91-f20110e87945",
   "metadata": {},
   "outputs": [
    {
     "name": "stdout",
     "output_type": "stream",
     "text": [
      "Keep up the good work, Santosh\n",
      "Keep up the good work, Arvind\n",
      "Keep up the good work, Adnan\n",
      "Keep up the good work, Kiran\n",
      "Keep up the good work, Heera\n",
      "Keep up the good work, Naveena\n"
     ]
    }
   ],
   "source": [
    "for student in students:\n",
    "  print(f\"Keep up the good work, {student.title()}\")"
   ]
  },
  {
   "cell_type": "code",
   "execution_count": 11,
   "id": "a6075115-09bc-49a4-8057-bd76e713720c",
   "metadata": {},
   "outputs": [
    {
     "name": "stdout",
     "output_type": "stream",
     "text": [
      "Keep up the good work, Santosh\n",
      "Keep up the good work, Arvind\n",
      "Keep up the good work, Adnan\n",
      "Keep up the good work, Kiran\n",
      "Keep up the good work, Heera\n",
      "Keep up the good work, Naveena\n"
     ]
    }
   ],
   "source": [
    "for a in students:\n",
    "  print(f\"Keep up the good work, {a.title()}\")"
   ]
  },
  {
   "cell_type": "code",
   "execution_count": 12,
   "id": "5ef25823-0f77-4002-a0e0-23bf36daeb7f",
   "metadata": {},
   "outputs": [
    {
     "ename": "IndentationError",
     "evalue": "expected an indented block after 'for' statement on line 1 (3541556487.py, line 2)",
     "output_type": "error",
     "traceback": [
      "\u001b[1;36m  Cell \u001b[1;32mIn[12], line 2\u001b[1;36m\u001b[0m\n\u001b[1;33m    print(f\"Keep up the good work, {a.title()}\")\u001b[0m\n\u001b[1;37m    ^\u001b[0m\n\u001b[1;31mIndentationError\u001b[0m\u001b[1;31m:\u001b[0m expected an indented block after 'for' statement on line 1\n"
     ]
    }
   ],
   "source": [
    "for a in students:\n",
    "print(f\"Keep up the good work, {a.title()}\") # Indentation is required inside a block"
   ]
  },
  {
   "cell_type": "code",
   "execution_count": null,
   "id": "927814fe-dbb1-469e-922a-1c761bd583e7",
   "metadata": {},
   "outputs": [],
   "source": [
    "for tempvar in mainvar:\n",
    "  print(tempvar)"
   ]
  },
  {
   "cell_type": "code",
   "execution_count": 14,
   "id": "b7017692-ed44-440b-a667-cb32f3731754",
   "metadata": {},
   "outputs": [
    {
     "name": "stdout",
     "output_type": "stream",
     "text": [
      "santosh\n",
      "arvind\n",
      "adnan\n",
      "kiran\n",
      "heera\n",
      "naveena\n"
     ]
    }
   ],
   "source": [
    "for ironman in students:\n",
    "    print(ironman)"
   ]
  },
  {
   "cell_type": "code",
   "execution_count": null,
   "id": "d413ceaf-bc91-4a61-bbb5-fe90262effbf",
   "metadata": {},
   "outputs": [],
   "source": [
    "# req : I am waiting for today's submission......"
   ]
  },
  {
   "cell_type": "code",
   "execution_count": 15,
   "id": "cf9814dd-aa1e-4cbc-b5a9-15108c5244a1",
   "metadata": {},
   "outputs": [
    {
     "name": "stdout",
     "output_type": "stream",
     "text": [
      "Keep up your good work, Santosh\n",
      "I am waiting to receive your today's submission, Santosh\n",
      "Keep up your good work, Arvind\n",
      "I am waiting to receive your today's submission, Arvind\n",
      "Keep up your good work, Adnan\n",
      "I am waiting to receive your today's submission, Adnan\n",
      "Keep up your good work, Kiran\n",
      "I am waiting to receive your today's submission, Kiran\n",
      "Keep up your good work, Heera\n",
      "I am waiting to receive your today's submission, Heera\n",
      "Keep up your good work, Naveena\n",
      "I am waiting to receive your today's submission, Naveena\n"
     ]
    }
   ],
   "source": [
    "for student in students:\n",
    "    print(f\"Keep up your good work, {student.title()}\")\n",
    "    print(f\"I am waiting to receive your today's submission, {student.title()}\")"
   ]
  },
  {
   "cell_type": "code",
   "execution_count": 17,
   "id": "63d1843e-33a0-42e2-8d11-48bcc83f3747",
   "metadata": {},
   "outputs": [
    {
     "name": "stdout",
     "output_type": "stream",
     "text": [
      "Keep up your good work, Santosh\n",
      "I am waiting to receive your today's submission, Santosh\n",
      "\n",
      "Keep up your good work, Arvind\n",
      "I am waiting to receive your today's submission, Arvind\n",
      "\n",
      "Keep up your good work, Adnan\n",
      "I am waiting to receive your today's submission, Adnan\n",
      "\n",
      "Keep up your good work, Kiran\n",
      "I am waiting to receive your today's submission, Kiran\n",
      "\n",
      "Keep up your good work, Heera\n",
      "I am waiting to receive your today's submission, Heera\n",
      "\n",
      "Keep up your good work, Naveena\n",
      "I am waiting to receive your today's submission, Naveena\n",
      "\n"
     ]
    }
   ],
   "source": [
    "for student in students:\n",
    "    print(f\"Keep up your good work, {student.title()}\")\n",
    "    print(f\"I am waiting to receive your today's submission, {student.title()}\\n\") #\\n newline character"
   ]
  },
  {
   "cell_type": "code",
   "execution_count": 18,
   "id": "88029ae1-dfe2-49cb-a14a-83cd97dc079c",
   "metadata": {},
   "outputs": [
    {
     "name": "stdout",
     "output_type": "stream",
     "text": [
      "Keep up your good work, Santosh\n",
      "I am waiting to receive your today's submission, Santosh\n",
      "\n",
      "Keep up your good work, Arvind\n",
      "I am waiting to receive your today's submission, Arvind\n",
      "\n",
      "Keep up your good work, Adnan\n",
      "I am waiting to receive your today's submission, Adnan\n",
      "\n",
      "Keep up your good work, Kiran\n",
      "I am waiting to receive your today's submission, Kiran\n",
      "\n",
      "Keep up your good work, Heera\n",
      "I am waiting to receive your today's submission, Heera\n",
      "\n",
      "Keep up your good work, Naveena\n",
      "I am waiting to receive your today's submission, Naveena\n",
      "\n",
      "Thank you all, for showing interest in learning python\n"
     ]
    }
   ],
   "source": [
    "for student in students:\n",
    "    print(f\"Keep up your good work, {student.title()}\")\n",
    "    print(f\"I am waiting to receive your today's submission, {student.title()}\\n\") \n",
    "print(\"Thank you all, for showing interest in learning python\")  # This line is outside the block"
   ]
  }
 ],
 "metadata": {
  "kernelspec": {
   "display_name": "Python 3 (ipykernel)",
   "language": "python",
   "name": "python3"
  },
  "language_info": {
   "codemirror_mode": {
    "name": "ipython",
    "version": 3
   },
   "file_extension": ".py",
   "mimetype": "text/x-python",
   "name": "python",
   "nbconvert_exporter": "python",
   "pygments_lexer": "ipython3",
   "version": "3.12.4"
  }
 },
 "nbformat": 4,
 "nbformat_minor": 5
}
